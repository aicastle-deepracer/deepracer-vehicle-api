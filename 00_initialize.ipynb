{
 "cells": [
  {
   "cell_type": "markdown",
   "metadata": {},
   "source": [
    "# [0] Initialize"
   ]
  },
  {
   "cell_type": "markdown",
   "metadata": {},
   "source": [
    "- DeepRacer 차량 내부에 있는 `vehicle_control.py`를 수정합니다.\n",
    "    > 기본 API는 차량 제어시 연속적 값을 허용하지 않고 이산적으로 각도랑 속도를 임계점에 따라 조정하도록 되어있는데 이것을 연속적 값 수정이 되도록 허용합니다.\n",
    "- `ssh_module_update=True, ssh_module_update_custom=True`로 설정하면 초기 구성파일을 커스텀 파일로 수정합니다.\n",
    "\n",
    "- `ssh_module_update=True, ssh_module_update_custom=False`로 설정하면 초기 구성파일을 원본 파일로 수정합니다."
   ]
  },
  {
   "cell_type": "code",
   "execution_count": 1,
   "metadata": {},
   "outputs": [
    {
     "name": "stdout",
     "output_type": "stream",
     "text": [
      "Login to 192.168.0.70 .Success!\n",
      "Connected (version 2.0, client OpenSSH_8.2p1)\n",
      "Authentication (publickey) failed.\n",
      "Authentication (password) successful!\n",
      "[chan 1] Opened sftp connection (server version 3)\n"
     ]
    },
    {
     "name": "stderr",
     "output_type": "stream",
     "text": [
      "Exception in thread Thread-5 (fetch_stream):\n",
      "Traceback (most recent call last):\n",
      "  File \"c:\\Users\\dongorae\\Desktop\\Projects\\deepracer-vehicle-api\\venv\\Lib\\site-packages\\urllib3\\response.py\", line 754, in _error_catcher\n",
      "    yield\n",
      "  File \"c:\\Users\\dongorae\\Desktop\\Projects\\deepracer-vehicle-api\\venv\\Lib\\site-packages\\urllib3\\response.py\", line 1222, in read_chunked\n",
      "    chunk = self._handle_chunk(amt)\n",
      "            ^^^^^^^^^^^^^^^^^^^^^^^\n",
      "  File \"c:\\Users\\dongorae\\Desktop\\Projects\\deepracer-vehicle-api\\venv\\Lib\\site-packages\\urllib3\\response.py\", line 1159, in _handle_chunk\n",
      "    value = self._fp._safe_read(amt)  # type: ignore[union-attr]\n",
      "            ^^^^^^^^^^^^^^^^^^^^^^^^\n",
      "  File \"C:\\Users\\dongorae\\AppData\\Local\\Programs\\Python\\Python312\\Lib\\http\\client.py\", line 642, in _safe_read\n",
      "    raise IncompleteRead(data, amt-len(data))\n",
      "http.client.IncompleteRead: IncompleteRead(209 bytes read, 815 more expected)\n",
      "\n",
      "The above exception was the direct cause of the following exception:\n",
      "\n",
      "Traceback (most recent call last):\n",
      "  File \"c:\\Users\\dongorae\\Desktop\\Projects\\deepracer-vehicle-api\\venv\\Lib\\site-packages\\requests\\models.py\", line 820, in generate\n",
      "    yield from self.raw.stream(chunk_size, decode_content=True)\n",
      "  File \"c:\\Users\\dongorae\\Desktop\\Projects\\deepracer-vehicle-api\\venv\\Lib\\site-packages\\urllib3\\response.py\", line 1063, in stream\n",
      "    yield from self.read_chunked(amt, decode_content=decode_content)\n",
      "  File \"c:\\Users\\dongorae\\Desktop\\Projects\\deepracer-vehicle-api\\venv\\Lib\\site-packages\\urllib3\\response.py\", line 1202, in read_chunked\n",
      "    with self._error_catcher():\n",
      "  File \"C:\\Users\\dongorae\\AppData\\Local\\Programs\\Python\\Python312\\Lib\\contextlib.py\", line 158, in __exit__\n",
      "    self.gen.throw(value)\n",
      "  File \"c:\\Users\\dongorae\\Desktop\\Projects\\deepracer-vehicle-api\\venv\\Lib\\site-packages\\urllib3\\response.py\", line 781, in _error_catcher\n",
      "    raise ProtocolError(f\"Connection broken: {e!r}\", e) from e\n",
      "urllib3.exceptions.ProtocolError: ('Connection broken: IncompleteRead(209 bytes read, 815 more expected)', IncompleteRead(209 bytes read, 815 more expected))\n",
      "\n",
      "During handling of the above exception, another exception occurred:\n",
      "\n",
      "Traceback (most recent call last):\n",
      "  File \"C:\\Users\\dongorae\\AppData\\Local\\Programs\\Python\\Python312\\Lib\\threading.py\", line 1075, in _bootstrap_inner\n",
      "    self.run()\n",
      "  File \"c:\\Users\\dongorae\\Desktop\\Projects\\deepracer-vehicle-api\\venv\\Lib\\site-packages\\ipykernel\\ipkernel.py\", line 766, in run_closure\n",
      "    _threading_Thread_run(self)\n",
      "  File \"C:\\Users\\dongorae\\AppData\\Local\\Programs\\Python\\Python312\\Lib\\threading.py\", line 1012, in run\n",
      "    self._target(*self._args, **self._kwargs)\n",
      "  File \"c:\\Users\\dongorae\\Desktop\\Projects\\deepracer-vehicle-api\\venv\\Lib\\site-packages\\aicastle\\deepracer\\vehicle\\api\\client.py\", line 293, in fetch_stream\n",
      "    for chunk in self.stream.iter_content(chunk_size=self.stream_chunk_size):\n",
      "                 ^^^^^^^^^^^^^^^^^^^^^^^^^^^^^^^^^^^^^^^^^^^^^^^^^^^^^^^^^^^\n",
      "  File \"c:\\Users\\dongorae\\Desktop\\Projects\\deepracer-vehicle-api\\venv\\Lib\\site-packages\\requests\\models.py\", line 822, in generate\n",
      "    raise ChunkedEncodingError(e)\n",
      "requests.exceptions.ChunkedEncodingError: ('Connection broken: IncompleteRead(209 bytes read, 815 more expected)', IncompleteRead(209 bytes read, 815 more expected))\n"
     ]
    }
   ],
   "source": [
    "import os\n",
    "from dotenv import load_dotenv\n",
    "from aicastle.deepracer.vehicle.api.client import VehicleClient\n",
    "load_dotenv(\".env\")\n",
    "\n",
    "vehicle =VehicleClient(\n",
    "    ip=os.getenv(\"VEHICLE_IP\"),\n",
    "    password=os.getenv(\"VEHICLE_PASSWORD\"),\n",
    "    ssh_module_update=True,\n",
    "    ssh_module_update_custom=True,\n",
    "    # ssh_password='DeepRacer111!!!',\n",
    ")\n"
   ]
  }
 ],
 "metadata": {
  "kernelspec": {
   "display_name": "venv",
   "language": "python",
   "name": "python3"
  },
  "language_info": {
   "codemirror_mode": {
    "name": "ipython",
    "version": 3
   },
   "file_extension": ".py",
   "mimetype": "text/x-python",
   "name": "python",
   "nbconvert_exporter": "python",
   "pygments_lexer": "ipython3",
   "version": "3.12.5"
  }
 },
 "nbformat": 4,
 "nbformat_minor": 2
}
